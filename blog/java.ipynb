{
 "cells": [
  {
   "cell_type": "markdown",
   "metadata": {},
   "source": [
    "[Variable Declaration](#variable-declaration)\n",
    "\n",
    "[Printing Output](#printing-output)\n",
    "\n",
    "[String Methods](#string-methods)\n",
    "\n",
    "[Conditional Statements & Control Flow & Loops](#conditional-statements--control-flow--loops)\n",
    "\n",
    "[Lists / Arrays](#lists--arrays)\n",
    "\n",
    "[Dictionaries / Maps](#dictionaries--maps)\n",
    "\n",
    "[Sets](#sets)\n",
    "\n",
    "[Exceptions & try / catch](#exceptions--try--catch)\n",
    "\n",
    "[Functions](#functions)\n",
    "\n",
    "[OOP](#oop)\n"
   ]
  },
  {
   "cell_type": "markdown",
   "metadata": {},
   "source": [
    "# Variable Declaration"
   ]
  }
 ],
 "metadata": {
  "language_info": {
   "name": "python"
  }
 },
 "nbformat": 4,
 "nbformat_minor": 2
}
